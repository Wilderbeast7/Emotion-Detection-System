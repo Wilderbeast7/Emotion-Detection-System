{
 "cells": [
  {
   "cell_type": "markdown",
   "id": "5320f4e1-3631-4293-a992-53c83b48a321",
   "metadata": {},
   "source": [
    "# Emotion Detection from Text"
   ]
  },
  {
   "cell_type": "markdown",
   "id": "da3209b7-6522-4424-b664-a49b7858c638",
   "metadata": {},
   "source": [
    "## Installing Libraries"
   ]
  },
  {
   "cell_type": "code",
   "execution_count": 3,
   "id": "b89b54a6-697b-4a5a-bfbb-c098b10d72b4",
   "metadata": {},
   "outputs": [],
   "source": [
    "# Basic Libraries\n",
    "import pandas as pd\n",
    "import numpy as np\n",
    "\n",
    "# Visualization Libraries\n",
    "import seaborn as sb\n",
    "import matplotlib.pyplot as plt\n",
    "\n",
    "# Text Cleaning package\n",
    "import neattext.functions as nfx\n",
    "import re\n",
    "import nltk\n",
    "import string\n",
    "\n",
    "# Feature Extraction Libraries\n",
    "from sklearn.feature_extraction.text import CountVectorizer\n",
    "from sklearn.feature_extraction.text import TfidfVectorizer\n",
    "from sklearn.feature_extraction.text import TfidfTransformer\n",
    "from sklearn.model_selection import train_test_split\n",
    "\n",
    "# Classifier Model libraries\n",
    "from sklearn.linear_model import SGDClassifier\n",
    "from sklearn.ensemble import RandomForestClassifier\n",
    "import xgboost as xgb\n",
    "from xgboost import XGBClassifier\n",
    "from sklearn.linear_model import LogisticRegression\n",
    "from sklearn.naive_bayes import MultinomialNB\n",
    "from sklearn import tree\n",
    "# from sklearn.pipeline import Pipeline\n",
    "\n",
    "# Performance Matrix libraries\n",
    "from sklearn.metrics import accuracy_score\n",
    "from sklearn.metrics import precision_score\n",
    "from sklearn.metrics import recall_score\n",
    "from sklearn.metrics import confusion_matrix\n",
    "from sklearn.metrics import f1_score\n",
    "from sklearn.metrics import classification_report\n",
    "from sklearn.metrics import ConfusionMatrixDisplay\n",
    "\n",
    "# other\n",
    "import warnings\n",
    "warnings.filterwarnings(\"ignore\")"
   ]
  },
  {
   "cell_type": "markdown",
   "id": "91616bb7-4178-426d-94ed-806d24c222f8",
   "metadata": {},
   "source": [
    "## 1. Dataset"
   ]
  },
  {
   "cell_type": "code",
   "execution_count": 5,
   "id": "b3159192-3524-4805-bd9d-f4b38255ee35",
   "metadata": {},
   "outputs": [
    {
     "data": {
      "text/html": [
       "<div>\n",
       "<style scoped>\n",
       "    .dataframe tbody tr th:only-of-type {\n",
       "        vertical-align: middle;\n",
       "    }\n",
       "\n",
       "    .dataframe tbody tr th {\n",
       "        vertical-align: top;\n",
       "    }\n",
       "\n",
       "    .dataframe thead th {\n",
       "        text-align: right;\n",
       "    }\n",
       "</style>\n",
       "<table border=\"1\" class=\"dataframe\">\n",
       "  <thead>\n",
       "    <tr style=\"text-align: right;\">\n",
       "      <th></th>\n",
       "      <th>content</th>\n",
       "      <th>sentiment</th>\n",
       "    </tr>\n",
       "  </thead>\n",
       "  <tbody>\n",
       "    <tr>\n",
       "      <th>0</th>\n",
       "      <td>i didnt feel humiliated</td>\n",
       "      <td>sadness</td>\n",
       "    </tr>\n",
       "    <tr>\n",
       "      <th>1</th>\n",
       "      <td>i can go from feeling so hopeless to so damned...</td>\n",
       "      <td>sadness</td>\n",
       "    </tr>\n",
       "    <tr>\n",
       "      <th>2</th>\n",
       "      <td>im grabbing a minute to post i feel greedy wrong</td>\n",
       "      <td>anger</td>\n",
       "    </tr>\n",
       "    <tr>\n",
       "      <th>3</th>\n",
       "      <td>i am ever feeling nostalgic about the fireplac...</td>\n",
       "      <td>love</td>\n",
       "    </tr>\n",
       "    <tr>\n",
       "      <th>4</th>\n",
       "      <td>i am feeling grouchy</td>\n",
       "      <td>anger</td>\n",
       "    </tr>\n",
       "  </tbody>\n",
       "</table>\n",
       "</div>"
      ],
      "text/plain": [
       "                                             content sentiment\n",
       "0                            i didnt feel humiliated   sadness\n",
       "1  i can go from feeling so hopeless to so damned...   sadness\n",
       "2   im grabbing a minute to post i feel greedy wrong     anger\n",
       "3  i am ever feeling nostalgic about the fireplac...      love\n",
       "4                               i am feeling grouchy     anger"
      ]
     },
     "execution_count": 5,
     "metadata": {},
     "output_type": "execute_result"
    }
   ],
   "source": [
    "df = pd.read_csv(\"text_emotions.csv\")\n",
    "df.head()"
   ]
  },
  {
   "cell_type": "code",
   "execution_count": 6,
   "id": "85c1db89-52a6-41af-8be1-c3c8f9c8f399",
   "metadata": {},
   "outputs": [
    {
     "data": {
      "text/html": [
       "<div>\n",
       "<style scoped>\n",
       "    .dataframe tbody tr th:only-of-type {\n",
       "        vertical-align: middle;\n",
       "    }\n",
       "\n",
       "    .dataframe tbody tr th {\n",
       "        vertical-align: top;\n",
       "    }\n",
       "\n",
       "    .dataframe thead th {\n",
       "        text-align: right;\n",
       "    }\n",
       "</style>\n",
       "<table border=\"1\" class=\"dataframe\">\n",
       "  <thead>\n",
       "    <tr style=\"text-align: right;\">\n",
       "      <th></th>\n",
       "      <th>content</th>\n",
       "      <th>sentiment</th>\n",
       "    </tr>\n",
       "  </thead>\n",
       "  <tbody>\n",
       "    <tr>\n",
       "      <th>0</th>\n",
       "      <td>i didnt feel humiliated</td>\n",
       "      <td>sadness</td>\n",
       "    </tr>\n",
       "    <tr>\n",
       "      <th>1</th>\n",
       "      <td>i can go from feeling so hopeless to so damned...</td>\n",
       "      <td>sadness</td>\n",
       "    </tr>\n",
       "    <tr>\n",
       "      <th>2</th>\n",
       "      <td>im grabbing a minute to post i feel greedy wrong</td>\n",
       "      <td>anger</td>\n",
       "    </tr>\n",
       "    <tr>\n",
       "      <th>3</th>\n",
       "      <td>i am ever feeling nostalgic about the fireplac...</td>\n",
       "      <td>love</td>\n",
       "    </tr>\n",
       "    <tr>\n",
       "      <th>4</th>\n",
       "      <td>i am feeling grouchy</td>\n",
       "      <td>anger</td>\n",
       "    </tr>\n",
       "    <tr>\n",
       "      <th>5</th>\n",
       "      <td>ive been feeling a little burdened lately wasn...</td>\n",
       "      <td>sadness</td>\n",
       "    </tr>\n",
       "    <tr>\n",
       "      <th>6</th>\n",
       "      <td>ive been taking or milligrams or times recomme...</td>\n",
       "      <td>surprise</td>\n",
       "    </tr>\n",
       "    <tr>\n",
       "      <th>7</th>\n",
       "      <td>i feel as confused about life as a teenager or...</td>\n",
       "      <td>fear</td>\n",
       "    </tr>\n",
       "    <tr>\n",
       "      <th>8</th>\n",
       "      <td>i have been with petronas for years i feel tha...</td>\n",
       "      <td>joy</td>\n",
       "    </tr>\n",
       "    <tr>\n",
       "      <th>9</th>\n",
       "      <td>i feel romantic too</td>\n",
       "      <td>love</td>\n",
       "    </tr>\n",
       "    <tr>\n",
       "      <th>10</th>\n",
       "      <td>i feel like i have to make the suffering i m s...</td>\n",
       "      <td>sadness</td>\n",
       "    </tr>\n",
       "    <tr>\n",
       "      <th>11</th>\n",
       "      <td>i do feel that running is a divine experience ...</td>\n",
       "      <td>joy</td>\n",
       "    </tr>\n",
       "    <tr>\n",
       "      <th>12</th>\n",
       "      <td>i think it s the easiest time of year to feel ...</td>\n",
       "      <td>anger</td>\n",
       "    </tr>\n",
       "    <tr>\n",
       "      <th>13</th>\n",
       "      <td>i feel low energy i m just thirsty</td>\n",
       "      <td>sadness</td>\n",
       "    </tr>\n",
       "    <tr>\n",
       "      <th>14</th>\n",
       "      <td>i have immense sympathy with the general point...</td>\n",
       "      <td>joy</td>\n",
       "    </tr>\n",
       "    <tr>\n",
       "      <th>15</th>\n",
       "      <td>i do not feel reassured anxiety is on each side</td>\n",
       "      <td>joy</td>\n",
       "    </tr>\n",
       "    <tr>\n",
       "      <th>16</th>\n",
       "      <td>i didnt really feel that embarrassed</td>\n",
       "      <td>sadness</td>\n",
       "    </tr>\n",
       "    <tr>\n",
       "      <th>17</th>\n",
       "      <td>i feel pretty pathetic most of the time</td>\n",
       "      <td>sadness</td>\n",
       "    </tr>\n",
       "    <tr>\n",
       "      <th>18</th>\n",
       "      <td>i started feeling sentimental about dolls i ha...</td>\n",
       "      <td>sadness</td>\n",
       "    </tr>\n",
       "    <tr>\n",
       "      <th>19</th>\n",
       "      <td>i now feel compromised and skeptical of the va...</td>\n",
       "      <td>fear</td>\n",
       "    </tr>\n",
       "  </tbody>\n",
       "</table>\n",
       "</div>"
      ],
      "text/plain": [
       "                                              content sentiment\n",
       "0                             i didnt feel humiliated   sadness\n",
       "1   i can go from feeling so hopeless to so damned...   sadness\n",
       "2    im grabbing a minute to post i feel greedy wrong     anger\n",
       "3   i am ever feeling nostalgic about the fireplac...      love\n",
       "4                                i am feeling grouchy     anger\n",
       "5   ive been feeling a little burdened lately wasn...   sadness\n",
       "6   ive been taking or milligrams or times recomme...  surprise\n",
       "7   i feel as confused about life as a teenager or...      fear\n",
       "8   i have been with petronas for years i feel tha...       joy\n",
       "9                                 i feel romantic too      love\n",
       "10  i feel like i have to make the suffering i m s...   sadness\n",
       "11  i do feel that running is a divine experience ...       joy\n",
       "12  i think it s the easiest time of year to feel ...     anger\n",
       "13                 i feel low energy i m just thirsty   sadness\n",
       "14  i have immense sympathy with the general point...       joy\n",
       "15    i do not feel reassured anxiety is on each side       joy\n",
       "16               i didnt really feel that embarrassed   sadness\n",
       "17            i feel pretty pathetic most of the time   sadness\n",
       "18  i started feeling sentimental about dolls i ha...   sadness\n",
       "19  i now feel compromised and skeptical of the va...      fear"
      ]
     },
     "execution_count": 6,
     "metadata": {},
     "output_type": "execute_result"
    }
   ],
   "source": [
    "df.head(20)"
   ]
  },
  {
   "cell_type": "code",
   "execution_count": 7,
   "id": "fe8d44fd-f089-4476-b85f-6622290aef9f",
   "metadata": {},
   "outputs": [],
   "source": [
    "df['sentiment'] = df['sentiment'].map({'joy':'Happy' , 'sadness': 'Sad', 'anger': 'Anger', 'love' : 1 , 'surprise' : 2 , 'fear' : 3})"
   ]
  },
  {
   "cell_type": "code",
   "execution_count": 8,
   "id": "39b965a3-ee2f-451a-aa39-a67838700c2b",
   "metadata": {},
   "outputs": [
    {
     "data": {
      "text/html": [
       "<div>\n",
       "<style scoped>\n",
       "    .dataframe tbody tr th:only-of-type {\n",
       "        vertical-align: middle;\n",
       "    }\n",
       "\n",
       "    .dataframe tbody tr th {\n",
       "        vertical-align: top;\n",
       "    }\n",
       "\n",
       "    .dataframe thead th {\n",
       "        text-align: right;\n",
       "    }\n",
       "</style>\n",
       "<table border=\"1\" class=\"dataframe\">\n",
       "  <thead>\n",
       "    <tr style=\"text-align: right;\">\n",
       "      <th></th>\n",
       "      <th>content</th>\n",
       "      <th>sentiment</th>\n",
       "    </tr>\n",
       "  </thead>\n",
       "  <tbody>\n",
       "    <tr>\n",
       "      <th>0</th>\n",
       "      <td>i didnt feel humiliated</td>\n",
       "      <td>Sad</td>\n",
       "    </tr>\n",
       "    <tr>\n",
       "      <th>1</th>\n",
       "      <td>i can go from feeling so hopeless to so damned...</td>\n",
       "      <td>Sad</td>\n",
       "    </tr>\n",
       "    <tr>\n",
       "      <th>2</th>\n",
       "      <td>im grabbing a minute to post i feel greedy wrong</td>\n",
       "      <td>Anger</td>\n",
       "    </tr>\n",
       "    <tr>\n",
       "      <th>3</th>\n",
       "      <td>i am ever feeling nostalgic about the fireplac...</td>\n",
       "      <td>1</td>\n",
       "    </tr>\n",
       "    <tr>\n",
       "      <th>4</th>\n",
       "      <td>i am feeling grouchy</td>\n",
       "      <td>Anger</td>\n",
       "    </tr>\n",
       "  </tbody>\n",
       "</table>\n",
       "</div>"
      ],
      "text/plain": [
       "                                             content sentiment\n",
       "0                            i didnt feel humiliated       Sad\n",
       "1  i can go from feeling so hopeless to so damned...       Sad\n",
       "2   im grabbing a minute to post i feel greedy wrong     Anger\n",
       "3  i am ever feeling nostalgic about the fireplac...         1\n",
       "4                               i am feeling grouchy     Anger"
      ]
     },
     "execution_count": 8,
     "metadata": {},
     "output_type": "execute_result"
    }
   ],
   "source": [
    "df.head()"
   ]
  },
  {
   "cell_type": "code",
   "execution_count": 9,
   "id": "cfeba1f0-6193-4a10-85cd-3a04d2984361",
   "metadata": {},
   "outputs": [],
   "source": [
    "df = df[df['sentiment'] != 1]\n",
    "df = df[df['sentiment'] != 2]\n",
    "df = df[df['sentiment'] != 3]"
   ]
  },
  {
   "cell_type": "code",
   "execution_count": 10,
   "id": "2ed55bec-e2be-41fc-872c-802d6fd4ddd1",
   "metadata": {},
   "outputs": [
    {
     "data": {
      "text/html": [
       "<div>\n",
       "<style scoped>\n",
       "    .dataframe tbody tr th:only-of-type {\n",
       "        vertical-align: middle;\n",
       "    }\n",
       "\n",
       "    .dataframe tbody tr th {\n",
       "        vertical-align: top;\n",
       "    }\n",
       "\n",
       "    .dataframe thead th {\n",
       "        text-align: right;\n",
       "    }\n",
       "</style>\n",
       "<table border=\"1\" class=\"dataframe\">\n",
       "  <thead>\n",
       "    <tr style=\"text-align: right;\">\n",
       "      <th></th>\n",
       "      <th>content</th>\n",
       "      <th>sentiment</th>\n",
       "    </tr>\n",
       "  </thead>\n",
       "  <tbody>\n",
       "    <tr>\n",
       "      <th>0</th>\n",
       "      <td>i didnt feel humiliated</td>\n",
       "      <td>Sad</td>\n",
       "    </tr>\n",
       "    <tr>\n",
       "      <th>1</th>\n",
       "      <td>i can go from feeling so hopeless to so damned...</td>\n",
       "      <td>Sad</td>\n",
       "    </tr>\n",
       "    <tr>\n",
       "      <th>2</th>\n",
       "      <td>im grabbing a minute to post i feel greedy wrong</td>\n",
       "      <td>Anger</td>\n",
       "    </tr>\n",
       "    <tr>\n",
       "      <th>4</th>\n",
       "      <td>i am feeling grouchy</td>\n",
       "      <td>Anger</td>\n",
       "    </tr>\n",
       "    <tr>\n",
       "      <th>5</th>\n",
       "      <td>ive been feeling a little burdened lately wasn...</td>\n",
       "      <td>Sad</td>\n",
       "    </tr>\n",
       "    <tr>\n",
       "      <th>8</th>\n",
       "      <td>i have been with petronas for years i feel tha...</td>\n",
       "      <td>Happy</td>\n",
       "    </tr>\n",
       "    <tr>\n",
       "      <th>10</th>\n",
       "      <td>i feel like i have to make the suffering i m s...</td>\n",
       "      <td>Sad</td>\n",
       "    </tr>\n",
       "    <tr>\n",
       "      <th>11</th>\n",
       "      <td>i do feel that running is a divine experience ...</td>\n",
       "      <td>Happy</td>\n",
       "    </tr>\n",
       "    <tr>\n",
       "      <th>12</th>\n",
       "      <td>i think it s the easiest time of year to feel ...</td>\n",
       "      <td>Anger</td>\n",
       "    </tr>\n",
       "    <tr>\n",
       "      <th>13</th>\n",
       "      <td>i feel low energy i m just thirsty</td>\n",
       "      <td>Sad</td>\n",
       "    </tr>\n",
       "    <tr>\n",
       "      <th>14</th>\n",
       "      <td>i have immense sympathy with the general point...</td>\n",
       "      <td>Happy</td>\n",
       "    </tr>\n",
       "    <tr>\n",
       "      <th>15</th>\n",
       "      <td>i do not feel reassured anxiety is on each side</td>\n",
       "      <td>Happy</td>\n",
       "    </tr>\n",
       "    <tr>\n",
       "      <th>16</th>\n",
       "      <td>i didnt really feel that embarrassed</td>\n",
       "      <td>Sad</td>\n",
       "    </tr>\n",
       "    <tr>\n",
       "      <th>17</th>\n",
       "      <td>i feel pretty pathetic most of the time</td>\n",
       "      <td>Sad</td>\n",
       "    </tr>\n",
       "    <tr>\n",
       "      <th>18</th>\n",
       "      <td>i started feeling sentimental about dolls i ha...</td>\n",
       "      <td>Sad</td>\n",
       "    </tr>\n",
       "    <tr>\n",
       "      <th>20</th>\n",
       "      <td>i feel irritated and rejected without anyone d...</td>\n",
       "      <td>Anger</td>\n",
       "    </tr>\n",
       "    <tr>\n",
       "      <th>22</th>\n",
       "      <td>i have the feeling she was amused and delighted</td>\n",
       "      <td>Happy</td>\n",
       "    </tr>\n",
       "    <tr>\n",
       "      <th>23</th>\n",
       "      <td>i was able to help chai lifeline with your sup...</td>\n",
       "      <td>Happy</td>\n",
       "    </tr>\n",
       "    <tr>\n",
       "      <th>24</th>\n",
       "      <td>i already feel like i fucked up though because...</td>\n",
       "      <td>Anger</td>\n",
       "    </tr>\n",
       "    <tr>\n",
       "      <th>25</th>\n",
       "      <td>i still love my so and wish the best for him i...</td>\n",
       "      <td>Sad</td>\n",
       "    </tr>\n",
       "  </tbody>\n",
       "</table>\n",
       "</div>"
      ],
      "text/plain": [
       "                                              content sentiment\n",
       "0                             i didnt feel humiliated       Sad\n",
       "1   i can go from feeling so hopeless to so damned...       Sad\n",
       "2    im grabbing a minute to post i feel greedy wrong     Anger\n",
       "4                                i am feeling grouchy     Anger\n",
       "5   ive been feeling a little burdened lately wasn...       Sad\n",
       "8   i have been with petronas for years i feel tha...     Happy\n",
       "10  i feel like i have to make the suffering i m s...       Sad\n",
       "11  i do feel that running is a divine experience ...     Happy\n",
       "12  i think it s the easiest time of year to feel ...     Anger\n",
       "13                 i feel low energy i m just thirsty       Sad\n",
       "14  i have immense sympathy with the general point...     Happy\n",
       "15    i do not feel reassured anxiety is on each side     Happy\n",
       "16               i didnt really feel that embarrassed       Sad\n",
       "17            i feel pretty pathetic most of the time       Sad\n",
       "18  i started feeling sentimental about dolls i ha...       Sad\n",
       "20  i feel irritated and rejected without anyone d...     Anger\n",
       "22    i have the feeling she was amused and delighted     Happy\n",
       "23  i was able to help chai lifeline with your sup...     Happy\n",
       "24  i already feel like i fucked up though because...     Anger\n",
       "25  i still love my so and wish the best for him i...       Sad"
      ]
     },
     "execution_count": 10,
     "metadata": {},
     "output_type": "execute_result"
    }
   ],
   "source": [
    "df.head(20)"
   ]
  },
  {
   "cell_type": "code",
   "execution_count": 11,
   "id": "e10015ee-9e55-4ec2-887a-c263fb12e92a",
   "metadata": {},
   "outputs": [
    {
     "data": {
      "text/plain": [
       "sentiment\n",
       "Happy    6761\n",
       "Sad      5797\n",
       "Anger    2709\n",
       "Name: count, dtype: int64"
      ]
     },
     "execution_count": 11,
     "metadata": {},
     "output_type": "execute_result"
    }
   ],
   "source": [
    "df['sentiment'].value_counts()"
   ]
  },
  {
   "cell_type": "code",
   "execution_count": 12,
   "id": "480e89f8-aafe-4276-a964-f0fc64f7c2bb",
   "metadata": {},
   "outputs": [
    {
     "data": {
      "text/plain": [
       "<Axes: xlabel='sentiment', ylabel='count'>"
      ]
     },
     "execution_count": 12,
     "metadata": {},
     "output_type": "execute_result"
    },
    {
     "data": {
      "image/png": "[encoded data removed]",
      "text/plain": [
       "<Figure size 640x480 with 1 Axes>"
      ]
     },
     "metadata": {},
     "output_type": "display_data"
    }
   ],
   "source": [
    "sb.countplot(x='sentiment',data=df)"
   ]
  },
  {
   "cell_type": "code",
   "execution_count": 13,
   "id": "a83a47ed-f3eb-4d80-9c1b-fe3f138a21b1",
   "metadata": {},
   "outputs": [
    {
     "data": {
      "text/plain": [
       "0                                  i didnt feel humiliated\n",
       "1        i can go from feeling so hopeless to so damned...\n",
       "2         im grabbing a minute to post i feel greedy wrong\n",
       "4                                     i am feeling grouchy\n",
       "5        ive been feeling a little burdened lately wasn...\n",
       "                               ...                        \n",
       "19995    im having ssa examination tomorrow in the morn...\n",
       "19996    i constantly worry about their fight against n...\n",
       "19997    i feel its important to share this info for th...\n",
       "19998    i truly feel that if you are passionate enough...\n",
       "19999    i feel like i just wanna buy any cute make up ...\n",
       "Name: content, Length: 15267, dtype: object"
      ]
     },
     "execution_count": 13,
     "metadata": {},
     "output_type": "execute_result"
    }
   ],
   "source": [
    "df[\"content\"]"
   ]
  },
  {
   "cell_type": "markdown",
   "id": "367bc22c-561c-427b-87f4-2c68b30c853c",
   "metadata": {},
   "source": [
    "## 2. Pre-processing text data\n",
    "1. Remove punctuations\r\n",
    "2. Tokenization - Converting a sentence into list of words\r\n",
    "3. Remove stopwords\r\n",
    "4. Lammetization/stemming - Tranforming any form of a word to its root wordordord"
   ]
  },
  {
   "cell_type": "markdown",
   "id": "d5fa572c-2634-4f0c-8418-bf69f4649947",
   "metadata": {},
   "source": [
    "### 2.1 Remove Punctuations"
   ]
  },
  {
   "cell_type": "code",
   "execution_count": 16,
   "id": "e2955b8c-d423-46d7-b75d-25070e12d719",
   "metadata": {},
   "outputs": [
    {
     "data": {
      "text/html": [
       "<div>\n",
       "<style scoped>\n",
       "    .dataframe tbody tr th:only-of-type {\n",
       "        vertical-align: middle;\n",
       "    }\n",
       "\n",
       "    .dataframe tbody tr th {\n",
       "        vertical-align: top;\n",
       "    }\n",
       "\n",
       "    .dataframe thead th {\n",
       "        text-align: right;\n",
       "    }\n",
       "</style>\n",
       "<table border=\"1\" class=\"dataframe\">\n",
       "  <thead>\n",
       "    <tr style=\"text-align: right;\">\n",
       "      <th></th>\n",
       "      <th>content</th>\n",
       "      <th>sentiment</th>\n",
       "      <th>Tweet_punct</th>\n",
       "    </tr>\n",
       "  </thead>\n",
       "  <tbody>\n",
       "    <tr>\n",
       "      <th>0</th>\n",
       "      <td>i didnt feel humiliated</td>\n",
       "      <td>Sad</td>\n",
       "      <td>i didnt feel humiliated</td>\n",
       "    </tr>\n",
       "    <tr>\n",
       "      <th>1</th>\n",
       "      <td>i can go from feeling so hopeless to so damned...</td>\n",
       "      <td>Sad</td>\n",
       "      <td>i can go from feeling so hopeless to so damned...</td>\n",
       "    </tr>\n",
       "    <tr>\n",
       "      <th>2</th>\n",
       "      <td>im grabbing a minute to post i feel greedy wrong</td>\n",
       "      <td>Anger</td>\n",
       "      <td>im grabbing a minute to post i feel greedy wrong</td>\n",
       "    </tr>\n",
       "    <tr>\n",
       "      <th>4</th>\n",
       "      <td>i am feeling grouchy</td>\n",
       "      <td>Anger</td>\n",
       "      <td>i am feeling grouchy</td>\n",
       "    </tr>\n",
       "    <tr>\n",
       "      <th>5</th>\n",
       "      <td>ive been feeling a little burdened lately wasn...</td>\n",
       "      <td>Sad</td>\n",
       "      <td>ive been feeling a little burdened lately wasn...</td>\n",
       "    </tr>\n",
       "    <tr>\n",
       "      <th>8</th>\n",
       "      <td>i have been with petronas for years i feel tha...</td>\n",
       "      <td>Happy</td>\n",
       "      <td>i have been with petronas for years i feel tha...</td>\n",
       "    </tr>\n",
       "    <tr>\n",
       "      <th>10</th>\n",
       "      <td>i feel like i have to make the suffering i m s...</td>\n",
       "      <td>Sad</td>\n",
       "      <td>i feel like i have to make the suffering i m s...</td>\n",
       "    </tr>\n",
       "    <tr>\n",
       "      <th>11</th>\n",
       "      <td>i do feel that running is a divine experience ...</td>\n",
       "      <td>Happy</td>\n",
       "      <td>i do feel that running is a divine experience ...</td>\n",
       "    </tr>\n",
       "    <tr>\n",
       "      <th>12</th>\n",
       "      <td>i think it s the easiest time of year to feel ...</td>\n",
       "      <td>Anger</td>\n",
       "      <td>i think it s the easiest time of year to feel ...</td>\n",
       "    </tr>\n",
       "    <tr>\n",
       "      <th>13</th>\n",
       "      <td>i feel low energy i m just thirsty</td>\n",
       "      <td>Sad</td>\n",
       "      <td>i feel low energy i m just thirsty</td>\n",
       "    </tr>\n",
       "  </tbody>\n",
       "</table>\n",
       "</div>"
      ],
      "text/plain": [
       "                                              content sentiment  \\\n",
       "0                             i didnt feel humiliated       Sad   \n",
       "1   i can go from feeling so hopeless to so damned...       Sad   \n",
       "2    im grabbing a minute to post i feel greedy wrong     Anger   \n",
       "4                                i am feeling grouchy     Anger   \n",
       "5   ive been feeling a little burdened lately wasn...       Sad   \n",
       "8   i have been with petronas for years i feel tha...     Happy   \n",
       "10  i feel like i have to make the suffering i m s...       Sad   \n",
       "11  i do feel that running is a divine experience ...     Happy   \n",
       "12  i think it s the easiest time of year to feel ...     Anger   \n",
       "13                 i feel low energy i m just thirsty       Sad   \n",
       "\n",
       "                                          Tweet_punct  \n",
       "0                             i didnt feel humiliated  \n",
       "1   i can go from feeling so hopeless to so damned...  \n",
       "2    im grabbing a minute to post i feel greedy wrong  \n",
       "4                                i am feeling grouchy  \n",
       "5   ive been feeling a little burdened lately wasn...  \n",
       "8   i have been with petronas for years i feel tha...  \n",
       "10  i feel like i have to make the suffering i m s...  \n",
       "11  i do feel that running is a divine experience ...  \n",
       "12  i think it s the easiest time of year to feel ...  \n",
       "13                 i feel low energy i m just thirsty  "
      ]
     },
     "execution_count": 16,
     "metadata": {},
     "output_type": "execute_result"
    }
   ],
   "source": [
    "emojis = pd.read_csv('emojis.txt',sep=',',header=None)\n",
    "emojis_dict = {i:j for i,j in zip(emojis[0],emojis[1])}\n",
    "pattern = '|'.join(sorted(re.escape(k) for k in emojis_dict))\n",
    "\n",
    "def replace_emojis(text):\n",
    "    text = re.sub(pattern,lambda m: emojis_dict.get(m.group(0)), text, flags=re.IGNORECASE)\n",
    "    return text\n",
    "\n",
    "def remove_punct(text):\n",
    "    text = replace_emojis(text)\n",
    "    text  = \"\".join([char for char in text if char not in string.punctuation])\n",
    "    text = re.sub('[0-9]+', '', text)\n",
    "    return text\n",
    "\n",
    "df['Tweet_punct'] = df['content'].apply(lambda x: remove_punct(x))\n",
    "df.head(10)"
   ]
  },
  {
   "cell_type": "markdown",
   "id": "f568f47f-f28e-4ebe-864f-5b9802cd4aec",
   "metadata": {},
   "source": [
    "### 2.2 Tokenization"
   ]
  },
  {
   "cell_type": "code",
   "execution_count": 18,
   "id": "851ff8b4-9ad4-4763-9b32-a820be4eb227",
   "metadata": {},
   "outputs": [
    {
     "data": {
      "text/html": [
       "<div>\n",
       "<style scoped>\n",
       "    .dataframe tbody tr th:only-of-type {\n",
       "        vertical-align: middle;\n",
       "    }\n",
       "\n",
       "    .dataframe tbody tr th {\n",
       "        vertical-align: top;\n",
       "    }\n",
       "\n",
       "    .dataframe thead th {\n",
       "        text-align: right;\n",
       "    }\n",
       "</style>\n",
       "<table border=\"1\" class=\"dataframe\">\n",
       "  <thead>\n",
       "    <tr style=\"text-align: right;\">\n",
       "      <th></th>\n",
       "      <th>content</th>\n",
       "      <th>sentiment</th>\n",
       "      <th>Tweet_punct</th>\n",
       "      <th>Tweet_tokenized</th>\n",
       "    </tr>\n",
       "  </thead>\n",
       "  <tbody>\n",
       "    <tr>\n",
       "      <th>0</th>\n",
       "      <td>i didnt feel humiliated</td>\n",
       "      <td>Sad</td>\n",
       "      <td>i didnt feel humiliated</td>\n",
       "      <td>[i, didnt, feel, humiliated]</td>\n",
       "    </tr>\n",
       "    <tr>\n",
       "      <th>1</th>\n",
       "      <td>i can go from feeling so hopeless to so damned...</td>\n",
       "      <td>Sad</td>\n",
       "      <td>i can go from feeling so hopeless to so damned...</td>\n",
       "      <td>[i, can, go, from, feeling, so, hopeless, to, ...</td>\n",
       "    </tr>\n",
       "    <tr>\n",
       "      <th>2</th>\n",
       "      <td>im grabbing a minute to post i feel greedy wrong</td>\n",
       "      <td>Anger</td>\n",
       "      <td>im grabbing a minute to post i feel greedy wrong</td>\n",
       "      <td>[im, grabbing, a, minute, to, post, i, feel, g...</td>\n",
       "    </tr>\n",
       "    <tr>\n",
       "      <th>4</th>\n",
       "      <td>i am feeling grouchy</td>\n",
       "      <td>Anger</td>\n",
       "      <td>i am feeling grouchy</td>\n",
       "      <td>[i, am, feeling, grouchy]</td>\n",
       "    </tr>\n",
       "    <tr>\n",
       "      <th>5</th>\n",
       "      <td>ive been feeling a little burdened lately wasn...</td>\n",
       "      <td>Sad</td>\n",
       "      <td>ive been feeling a little burdened lately wasn...</td>\n",
       "      <td>[ive, been, feeling, a, little, burdened, late...</td>\n",
       "    </tr>\n",
       "    <tr>\n",
       "      <th>8</th>\n",
       "      <td>i have been with petronas for years i feel tha...</td>\n",
       "      <td>Happy</td>\n",
       "      <td>i have been with petronas for years i feel tha...</td>\n",
       "      <td>[i, have, been, with, petronas, for, years, i,...</td>\n",
       "    </tr>\n",
       "    <tr>\n",
       "      <th>10</th>\n",
       "      <td>i feel like i have to make the suffering i m s...</td>\n",
       "      <td>Sad</td>\n",
       "      <td>i feel like i have to make the suffering i m s...</td>\n",
       "      <td>[i, feel, like, i, have, to, make, the, suffer...</td>\n",
       "    </tr>\n",
       "    <tr>\n",
       "      <th>11</th>\n",
       "      <td>i do feel that running is a divine experience ...</td>\n",
       "      <td>Happy</td>\n",
       "      <td>i do feel that running is a divine experience ...</td>\n",
       "      <td>[i, do, feel, that, running, is, a, divine, ex...</td>\n",
       "    </tr>\n",
       "    <tr>\n",
       "      <th>12</th>\n",
       "      <td>i think it s the easiest time of year to feel ...</td>\n",
       "      <td>Anger</td>\n",
       "      <td>i think it s the easiest time of year to feel ...</td>\n",
       "      <td>[i, think, it, s, the, easiest, time, of, year...</td>\n",
       "    </tr>\n",
       "    <tr>\n",
       "      <th>13</th>\n",
       "      <td>i feel low energy i m just thirsty</td>\n",
       "      <td>Sad</td>\n",
       "      <td>i feel low energy i m just thirsty</td>\n",
       "      <td>[i, feel, low, energy, i, m, just, thirsty]</td>\n",
       "    </tr>\n",
       "  </tbody>\n",
       "</table>\n",
       "</div>"
      ],
      "text/plain": [
       "                                              content sentiment  \\\n",
       "0                             i didnt feel humiliated       Sad   \n",
       "1   i can go from feeling so hopeless to so damned...       Sad   \n",
       "2    im grabbing a minute to post i feel greedy wrong     Anger   \n",
       "4                                i am feeling grouchy     Anger   \n",
       "5   ive been feeling a little burdened lately wasn...       Sad   \n",
       "8   i have been with petronas for years i feel tha...     Happy   \n",
       "10  i feel like i have to make the suffering i m s...       Sad   \n",
       "11  i do feel that running is a divine experience ...     Happy   \n",
       "12  i think it s the easiest time of year to feel ...     Anger   \n",
       "13                 i feel low energy i m just thirsty       Sad   \n",
       "\n",
       "                                          Tweet_punct  \\\n",
       "0                             i didnt feel humiliated   \n",
       "1   i can go from feeling so hopeless to so damned...   \n",
       "2    im grabbing a minute to post i feel greedy wrong   \n",
       "4                                i am feeling grouchy   \n",
       "5   ive been feeling a little burdened lately wasn...   \n",
       "8   i have been with petronas for years i feel tha...   \n",
       "10  i feel like i have to make the suffering i m s...   \n",
       "11  i do feel that running is a divine experience ...   \n",
       "12  i think it s the easiest time of year to feel ...   \n",
       "13                 i feel low energy i m just thirsty   \n",
       "\n",
       "                                      Tweet_tokenized  \n",
       "0                        [i, didnt, feel, humiliated]  \n",
       "1   [i, can, go, from, feeling, so, hopeless, to, ...  \n",
       "2   [im, grabbing, a, minute, to, post, i, feel, g...  \n",
       "4                           [i, am, feeling, grouchy]  \n",
       "5   [ive, been, feeling, a, little, burdened, late...  \n",
       "8   [i, have, been, with, petronas, for, years, i,...  \n",
       "10  [i, feel, like, i, have, to, make, the, suffer...  \n",
       "11  [i, do, feel, that, running, is, a, divine, ex...  \n",
       "12  [i, think, it, s, the, easiest, time, of, year...  \n",
       "13        [i, feel, low, energy, i, m, just, thirsty]  "
      ]
     },
     "execution_count": 18,
     "metadata": {},
     "output_type": "execute_result"
    }
   ],
   "source": [
    "def tokenization(text):\n",
    "    text = text.lower()\n",
    "    text = re.split('\\W+', text)\n",
    "    \n",
    "    return text\n",
    "\n",
    "df['Tweet_tokenized'] = df['Tweet_punct'].apply(lambda x: tokenization(x.lower()))\n",
    "df.head(10)"
   ]
  },
  {
   "cell_type": "markdown",
   "id": "661643ce-d027-4e9d-84bd-b347f9b82efd",
   "metadata": {},
   "source": [
    "### 2.3 Remove Stopwords"
   ]
  },
  {
   "cell_type": "code",
   "execution_count": 20,
   "id": "a23003d5-596c-4012-986e-c19f9328f475",
   "metadata": {},
   "outputs": [
    {
     "name": "stderr",
     "output_type": "stream",
     "text": [
      "[nltk_data] Downloading package stopwords to\n",
      "[nltk_data]     C:\\Users\\Admin\\AppData\\Roaming\\nltk_data...\n",
      "[nltk_data]   Package stopwords is already up-to-date!\n"
     ]
    }
   ],
   "source": [
    "import nltk\n",
    "nltk.download('stopwords')\n",
    "stopword = nltk.corpus.stopwords.words('english')\n",
    "stopword.extend(['yr', 'year', 'woman', 'man', 'girl','boy','one', 'two', 'sixteen', 'yearold', 'fu', 'weeks', 'week',\n",
    "              'treatment', 'associated', 'patients', 'may','day', 'case','old','u','n','didnt','ive','ate','feel','keep'\n",
    "                ,'brother','dad','basic','im'])"
   ]
  },
  {
   "cell_type": "code",
   "execution_count": 21,
   "id": "219f04c1-130d-4a5f-974c-41c8e1b82434",
   "metadata": {},
   "outputs": [
    {
     "data": {
      "text/html": [
       "<div>\n",
       "<style scoped>\n",
       "    .dataframe tbody tr th:only-of-type {\n",
       "        vertical-align: middle;\n",
       "    }\n",
       "\n",
       "    .dataframe tbody tr th {\n",
       "        vertical-align: top;\n",
       "    }\n",
       "\n",
       "    .dataframe thead th {\n",
       "        text-align: right;\n",
       "    }\n",
       "</style>\n",
       "<table border=\"1\" class=\"dataframe\">\n",
       "  <thead>\n",
       "    <tr style=\"text-align: right;\">\n",
       "      <th></th>\n",
       "      <th>content</th>\n",
       "      <th>sentiment</th>\n",
       "      <th>Tweet_punct</th>\n",
       "      <th>Tweet_tokenized</th>\n",
       "      <th>Tweet_nonstop</th>\n",
       "    </tr>\n",
       "  </thead>\n",
       "  <tbody>\n",
       "    <tr>\n",
       "      <th>0</th>\n",
       "      <td>i didnt feel humiliated</td>\n",
       "      <td>Sad</td>\n",
       "      <td>i didnt feel humiliated</td>\n",
       "      <td>[i, didnt, feel, humiliated]</td>\n",
       "      <td>[humiliated]</td>\n",
       "    </tr>\n",
       "    <tr>\n",
       "      <th>1</th>\n",
       "      <td>i can go from feeling so hopeless to so damned...</td>\n",
       "      <td>Sad</td>\n",
       "      <td>i can go from feeling so hopeless to so damned...</td>\n",
       "      <td>[i, can, go, from, feeling, so, hopeless, to, ...</td>\n",
       "      <td>[go, feeling, hopeless, damned, hopeful, aroun...</td>\n",
       "    </tr>\n",
       "    <tr>\n",
       "      <th>2</th>\n",
       "      <td>im grabbing a minute to post i feel greedy wrong</td>\n",
       "      <td>Anger</td>\n",
       "      <td>im grabbing a minute to post i feel greedy wrong</td>\n",
       "      <td>[im, grabbing, a, minute, to, post, i, feel, g...</td>\n",
       "      <td>[grabbing, minute, post, greedy, wrong]</td>\n",
       "    </tr>\n",
       "    <tr>\n",
       "      <th>4</th>\n",
       "      <td>i am feeling grouchy</td>\n",
       "      <td>Anger</td>\n",
       "      <td>i am feeling grouchy</td>\n",
       "      <td>[i, am, feeling, grouchy]</td>\n",
       "      <td>[feeling, grouchy]</td>\n",
       "    </tr>\n",
       "    <tr>\n",
       "      <th>5</th>\n",
       "      <td>ive been feeling a little burdened lately wasn...</td>\n",
       "      <td>Sad</td>\n",
       "      <td>ive been feeling a little burdened lately wasn...</td>\n",
       "      <td>[ive, been, feeling, a, little, burdened, late...</td>\n",
       "      <td>[feeling, little, burdened, lately, wasnt, sure]</td>\n",
       "    </tr>\n",
       "    <tr>\n",
       "      <th>8</th>\n",
       "      <td>i have been with petronas for years i feel tha...</td>\n",
       "      <td>Happy</td>\n",
       "      <td>i have been with petronas for years i feel tha...</td>\n",
       "      <td>[i, have, been, with, petronas, for, years, i,...</td>\n",
       "      <td>[petronas, years, petronas, performed, well, m...</td>\n",
       "    </tr>\n",
       "    <tr>\n",
       "      <th>10</th>\n",
       "      <td>i feel like i have to make the suffering i m s...</td>\n",
       "      <td>Sad</td>\n",
       "      <td>i feel like i have to make the suffering i m s...</td>\n",
       "      <td>[i, feel, like, i, have, to, make, the, suffer...</td>\n",
       "      <td>[like, make, suffering, seeing, mean, something]</td>\n",
       "    </tr>\n",
       "    <tr>\n",
       "      <th>11</th>\n",
       "      <td>i do feel that running is a divine experience ...</td>\n",
       "      <td>Happy</td>\n",
       "      <td>i do feel that running is a divine experience ...</td>\n",
       "      <td>[i, do, feel, that, running, is, a, divine, ex...</td>\n",
       "      <td>[running, divine, experience, expect, type, sp...</td>\n",
       "    </tr>\n",
       "    <tr>\n",
       "      <th>12</th>\n",
       "      <td>i think it s the easiest time of year to feel ...</td>\n",
       "      <td>Anger</td>\n",
       "      <td>i think it s the easiest time of year to feel ...</td>\n",
       "      <td>[i, think, it, s, the, easiest, time, of, year...</td>\n",
       "      <td>[think, easiest, time, dissatisfied]</td>\n",
       "    </tr>\n",
       "    <tr>\n",
       "      <th>13</th>\n",
       "      <td>i feel low energy i m just thirsty</td>\n",
       "      <td>Sad</td>\n",
       "      <td>i feel low energy i m just thirsty</td>\n",
       "      <td>[i, feel, low, energy, i, m, just, thirsty]</td>\n",
       "      <td>[low, energy, thirsty]</td>\n",
       "    </tr>\n",
       "  </tbody>\n",
       "</table>\n",
       "</div>"
      ],
      "text/plain": [
       "                                              content sentiment  \\\n",
       "0                             i didnt feel humiliated       Sad   \n",
       "1   i can go from feeling so hopeless to so damned...       Sad   \n",
       "2    im grabbing a minute to post i feel greedy wrong     Anger   \n",
       "4                                i am feeling grouchy     Anger   \n",
       "5   ive been feeling a little burdened lately wasn...       Sad   \n",
       "8   i have been with petronas for years i feel tha...     Happy   \n",
       "10  i feel like i have to make the suffering i m s...       Sad   \n",
       "11  i do feel that running is a divine experience ...     Happy   \n",
       "12  i think it s the easiest time of year to feel ...     Anger   \n",
       "13                 i feel low energy i m just thirsty       Sad   \n",
       "\n",
       "                                          Tweet_punct  \\\n",
       "0                             i didnt feel humiliated   \n",
       "1   i can go from feeling so hopeless to so damned...   \n",
       "2    im grabbing a minute to post i feel greedy wrong   \n",
       "4                                i am feeling grouchy   \n",
       "5   ive been feeling a little burdened lately wasn...   \n",
       "8   i have been with petronas for years i feel tha...   \n",
       "10  i feel like i have to make the suffering i m s...   \n",
       "11  i do feel that running is a divine experience ...   \n",
       "12  i think it s the easiest time of year to feel ...   \n",
       "13                 i feel low energy i m just thirsty   \n",
       "\n",
       "                                      Tweet_tokenized  \\\n",
       "0                        [i, didnt, feel, humiliated]   \n",
       "1   [i, can, go, from, feeling, so, hopeless, to, ...   \n",
       "2   [im, grabbing, a, minute, to, post, i, feel, g...   \n",
       "4                           [i, am, feeling, grouchy]   \n",
       "5   [ive, been, feeling, a, little, burdened, late...   \n",
       "8   [i, have, been, with, petronas, for, years, i,...   \n",
       "10  [i, feel, like, i, have, to, make, the, suffer...   \n",
       "11  [i, do, feel, that, running, is, a, divine, ex...   \n",
       "12  [i, think, it, s, the, easiest, time, of, year...   \n",
       "13        [i, feel, low, energy, i, m, just, thirsty]   \n",
       "\n",
       "                                        Tweet_nonstop  \n",
       "0                                        [humiliated]  \n",
       "1   [go, feeling, hopeless, damned, hopeful, aroun...  \n",
       "2             [grabbing, minute, post, greedy, wrong]  \n",
       "4                                  [feeling, grouchy]  \n",
       "5    [feeling, little, burdened, lately, wasnt, sure]  \n",
       "8   [petronas, years, petronas, performed, well, m...  \n",
       "10   [like, make, suffering, seeing, mean, something]  \n",
       "11  [running, divine, experience, expect, type, sp...  \n",
       "12               [think, easiest, time, dissatisfied]  \n",
       "13                             [low, energy, thirsty]  "
      ]
     },
     "execution_count": 21,
     "metadata": {},
     "output_type": "execute_result"
    }
   ],
   "source": [
    "def remove_stopwords(text):\n",
    "    text = [word for word in text if word not in stopword]\n",
    "    return text\n",
    "    \n",
    "df['Tweet_nonstop'] = df['Tweet_tokenized'].apply(lambda x: remove_stopwords(x))\n",
    "df.head(10)"
   ]
  },
  {
   "cell_type": "markdown",
   "id": "847297e8-9522-40c3-83ab-6f74e4ff76fc",
   "metadata": {},
   "source": [
    "### 2.4 Lemmatization"
   ]
  },
  {
   "cell_type": "code",
   "execution_count": 23,
   "id": "546e0859-aa78-4009-a810-a278cc08c3bb",
   "metadata": {},
   "outputs": [
    {
     "name": "stderr",
     "output_type": "stream",
     "text": [
      "[nltk_data] Downloading package wordnet to\n",
      "[nltk_data]     C:\\Users\\Admin\\AppData\\Roaming\\nltk_data...\n",
      "[nltk_data]   Package wordnet is already up-to-date!\n"
     ]
    },
    {
     "data": {
      "text/html": [
       "<div>\n",
       "<style scoped>\n",
       "    .dataframe tbody tr th:only-of-type {\n",
       "        vertical-align: middle;\n",
       "    }\n",
       "\n",
       "    .dataframe tbody tr th {\n",
       "        vertical-align: top;\n",
       "    }\n",
       "\n",
       "    .dataframe thead th {\n",
       "        text-align: right;\n",
       "    }\n",
       "</style>\n",
       "<table border=\"1\" class=\"dataframe\">\n",
       "  <thead>\n",
       "    <tr style=\"text-align: right;\">\n",
       "      <th></th>\n",
       "      <th>content</th>\n",
       "      <th>sentiment</th>\n",
       "      <th>Tweet_punct</th>\n",
       "      <th>Tweet_tokenized</th>\n",
       "      <th>Tweet_nonstop</th>\n",
       "      <th>Tweet_lemmatized</th>\n",
       "    </tr>\n",
       "  </thead>\n",
       "  <tbody>\n",
       "    <tr>\n",
       "      <th>0</th>\n",
       "      <td>i didnt feel humiliated</td>\n",
       "      <td>Sad</td>\n",
       "      <td>i didnt feel humiliated</td>\n",
       "      <td>[i, didnt, feel, humiliated]</td>\n",
       "      <td>[humiliated]</td>\n",
       "      <td>[humiliated]</td>\n",
       "    </tr>\n",
       "    <tr>\n",
       "      <th>1</th>\n",
       "      <td>i can go from feeling so hopeless to so damned...</td>\n",
       "      <td>Sad</td>\n",
       "      <td>i can go from feeling so hopeless to so damned...</td>\n",
       "      <td>[i, can, go, from, feeling, so, hopeless, to, ...</td>\n",
       "      <td>[go, feeling, hopeless, damned, hopeful, aroun...</td>\n",
       "      <td>[go, feeling, hopeless, damned, hopeful, aroun...</td>\n",
       "    </tr>\n",
       "    <tr>\n",
       "      <th>2</th>\n",
       "      <td>im grabbing a minute to post i feel greedy wrong</td>\n",
       "      <td>Anger</td>\n",
       "      <td>im grabbing a minute to post i feel greedy wrong</td>\n",
       "      <td>[im, grabbing, a, minute, to, post, i, feel, g...</td>\n",
       "      <td>[grabbing, minute, post, greedy, wrong]</td>\n",
       "      <td>[grabbing, minute, post, greedy, wrong]</td>\n",
       "    </tr>\n",
       "    <tr>\n",
       "      <th>4</th>\n",
       "      <td>i am feeling grouchy</td>\n",
       "      <td>Anger</td>\n",
       "      <td>i am feeling grouchy</td>\n",
       "      <td>[i, am, feeling, grouchy]</td>\n",
       "      <td>[feeling, grouchy]</td>\n",
       "      <td>[feeling, grouchy]</td>\n",
       "    </tr>\n",
       "    <tr>\n",
       "      <th>5</th>\n",
       "      <td>ive been feeling a little burdened lately wasn...</td>\n",
       "      <td>Sad</td>\n",
       "      <td>ive been feeling a little burdened lately wasn...</td>\n",
       "      <td>[ive, been, feeling, a, little, burdened, late...</td>\n",
       "      <td>[feeling, little, burdened, lately, wasnt, sure]</td>\n",
       "      <td>[feeling, little, burdened, lately, wasnt, sure]</td>\n",
       "    </tr>\n",
       "  </tbody>\n",
       "</table>\n",
       "</div>"
      ],
      "text/plain": [
       "                                             content sentiment  \\\n",
       "0                            i didnt feel humiliated       Sad   \n",
       "1  i can go from feeling so hopeless to so damned...       Sad   \n",
       "2   im grabbing a minute to post i feel greedy wrong     Anger   \n",
       "4                               i am feeling grouchy     Anger   \n",
       "5  ive been feeling a little burdened lately wasn...       Sad   \n",
       "\n",
       "                                         Tweet_punct  \\\n",
       "0                            i didnt feel humiliated   \n",
       "1  i can go from feeling so hopeless to so damned...   \n",
       "2   im grabbing a minute to post i feel greedy wrong   \n",
       "4                               i am feeling grouchy   \n",
       "5  ive been feeling a little burdened lately wasn...   \n",
       "\n",
       "                                     Tweet_tokenized  \\\n",
       "0                       [i, didnt, feel, humiliated]   \n",
       "1  [i, can, go, from, feeling, so, hopeless, to, ...   \n",
       "2  [im, grabbing, a, minute, to, post, i, feel, g...   \n",
       "4                          [i, am, feeling, grouchy]   \n",
       "5  [ive, been, feeling, a, little, burdened, late...   \n",
       "\n",
       "                                       Tweet_nonstop  \\\n",
       "0                                       [humiliated]   \n",
       "1  [go, feeling, hopeless, damned, hopeful, aroun...   \n",
       "2            [grabbing, minute, post, greedy, wrong]   \n",
       "4                                 [feeling, grouchy]   \n",
       "5   [feeling, little, burdened, lately, wasnt, sure]   \n",
       "\n",
       "                                    Tweet_lemmatized  \n",
       "0                                       [humiliated]  \n",
       "1  [go, feeling, hopeless, damned, hopeful, aroun...  \n",
       "2            [grabbing, minute, post, greedy, wrong]  \n",
       "4                                 [feeling, grouchy]  \n",
       "5   [feeling, little, burdened, lately, wasnt, sure]  "
      ]
     },
     "execution_count": 23,
     "metadata": {},
     "output_type": "execute_result"
    }
   ],
   "source": [
    "nltk.download('wordnet')\n",
    "wn = nltk.WordNetLemmatizer()\n",
    "\n",
    "def lemmatizer(text):\n",
    "    text = [wn.lemmatize(word) for word in text]\n",
    "    return text\n",
    "\n",
    "df['Tweet_lemmatized'] = df['Tweet_nonstop'].apply(lambda x: lemmatizer(x))\n",
    "df.head()"
   ]
  },
  {
   "cell_type": "markdown",
   "id": "6b3be81f-3343-41a0-b70f-5fb36adb413a",
   "metadata": {},
   "source": [
    "### Token Frequency in a sentence after preprocessing"
   ]
  },
  {
   "cell_type": "code",
   "execution_count": 25,
   "id": "08a1a432-4f48-4510-baa2-e044843272fb",
   "metadata": {},
   "outputs": [
    {
     "data": {
      "image/png": "[encoded data removed]",
      "text/plain": [
       "<Figure size 640x480 with 1 Axes>"
      ]
     },
     "metadata": {},
     "output_type": "display_data"
    }
   ],
   "source": [
    "token_lengths = [len(t) for t in df['Tweet_lemmatized']]\n",
    "plt.hist(token_lengths,bins=33,width = 0.7, fc=\"green\",alpha=0.5)\n",
    "plt.xlabel('Number of Tokens')\n",
    "plt.ylabel('Number of Sentences')\n",
    "plt.title('Token Frequency')\n",
    "x_Values = [i for i in range(36)] \n",
    "plt.xticks(x_Values)\n",
    "plt.xlim(0,36)\n",
    "plt.rcParams[\"figure.figsize\"] = (10,5)\n",
    "plt.show()"
   ]
  },
  {
   "cell_type": "markdown",
   "id": "52215cd3-b8f6-4a82-8af3-a436414e7703",
   "metadata": {},
   "source": [
    "### All in one (Text preprocessing)"
   ]
  },
  {
   "cell_type": "code",
   "execution_count": 27,
   "id": "3936f91d-f2e4-45b0-81b8-77c297dced94",
   "metadata": {},
   "outputs": [],
   "source": [
    "def clean_text(text):\n",
    "    text = remove_punct(text)\n",
    "    text = tokenization(text)\n",
    "    text = remove_stopwords(text)\n",
    "    text = lemmatizer(text)\n",
    "    return text"
   ]
  },
  {
   "cell_type": "markdown",
   "id": "51be4cf0-68ed-4f20-ac84-db7977a1d7a7",
   "metadata": {},
   "source": [
    "## Feature Extraction using Count Vectorizer and TF-IDF"
   ]
  },
  {
   "cell_type": "markdown",
   "id": "7d21c2c0-f077-4d30-ad1a-91e223e4135f",
   "metadata": {},
   "source": [
    "### Train Test Split"
   ]
  },
  {
   "cell_type": "code",
   "execution_count": 30,
   "id": "b6ce9652-7746-4947-9b55-072d3369c589",
   "metadata": {},
   "outputs": [],
   "source": [
    "X_train, X_test, y_train, y_test = train_test_split(df['content'], df['sentiment'],test_size=0.3, random_state = 0)"
   ]
  },
  {
   "cell_type": "markdown",
   "id": "8dedaa8a-c786-4bba-837d-698f15b57d2c",
   "metadata": {},
   "source": [
    "## 3. Count Vectorizer and TF-IDF "
   ]
  },
  {
   "cell_type": "code",
   "execution_count": 32,
   "id": "9db6e48c-6fae-4cb8-adb8-70b4638a8e10",
   "metadata": {},
   "outputs": [],
   "source": [
    "countVectorizer1 = CountVectorizer(analyzer=clean_text)\n",
    "countVector1 = countVectorizer1.fit_transform(X_train)\n",
    "\n",
    "countVector2 = countVectorizer1.transform(X_test)\n",
    "\n",
    "tfidf_transformer_xtrain = TfidfTransformer()\n",
    "x_train = tfidf_transformer_xtrain.fit_transform(countVector1)\n",
    "\n",
    "tfidf_transformer_xtest = TfidfTransformer()\n",
    "x_test = tfidf_transformer_xtest.fit_transform(countVector2)"
   ]
  },
  {
   "cell_type": "markdown",
   "id": "a26086e9-18c5-408c-80c2-0923f2cbb595",
   "metadata": {},
   "source": [
    "## 4. Models\n",
    "1) Support Vector Machine(SVM)\n",
    "2) Logistic Regression\n",
    "3) Random Forest Classifier\n",
    "4) XGBoost Classifier\n",
    "5) Multinomial Naive Bayes\n",
    "6) Decision Tree Classifier"
   ]
  },
  {
   "cell_type": "markdown",
   "id": "ab2b21b6-43a3-4371-8855-117447feb1ce",
   "metadata": {},
   "source": [
    "### 4.1 Support Vector Machine"
   ]
  },
  {
   "cell_type": "code",
   "execution_count": 35,
   "id": "f278fcde-1c3e-497e-af72-5e1af17bf90b",
   "metadata": {},
   "outputs": [
    {
     "name": "stdout",
     "output_type": "stream",
     "text": [
      "Accuracy: 95.460\n",
      "Precision: 95.246\n",
      "Recall: 94.096\n",
      "F1-score: 94.635\n",
      "              precision    recall  f1-score   support\n",
      "\n",
      "       Anger       0.95      0.89      0.92       797\n",
      "       Happy       0.96      0.98      0.97      2034\n",
      "         Sad       0.95      0.96      0.95      1750\n",
      "\n",
      "    accuracy                           0.95      4581\n",
      "   macro avg       0.95      0.94      0.95      4581\n",
      "weighted avg       0.95      0.95      0.95      4581\n",
      "\n"
     ]
    }
   ],
   "source": [
    "svm = SGDClassifier()\n",
    "svm.fit(x_train, y_train)\n",
    "\n",
    "y_pred = svm.predict(x_test)\n",
    "\n",
    "svm_acc = accuracy_score(y_pred, y_test)\n",
    "svm_prec = precision_score(y_test, y_pred, average='macro')\n",
    "svm_recal = recall_score(y_test, y_pred, average='macro')\n",
    "svm_cm = confusion_matrix(y_test,y_pred)\n",
    "svm_f1 = f1_score(y_test, y_pred, average='macro')\n",
    "\n",
    "print('Accuracy:', '{0:.3f}'.format(svm_acc*100))\n",
    "print('Precision:', '{0:.3f}'.format(svm_prec*100))\n",
    "print('Recall:', '{0:.3f}'.format(svm_recal*100))\n",
    "print('F1-score:', '{0:.3f}'.format(svm_f1*100))\n",
    "print(classification_report(y_test,y_pred))"
   ]
  },
  {
   "cell_type": "markdown",
   "id": "921d4e69-2818-41a6-968b-0857fa92c40c",
   "metadata": {},
   "source": [
    "### 4.1.1 Confusion Matrix"
   ]
  },
  {
   "cell_type": "code",
   "execution_count": 37,
   "id": "39cdd0a8-eb4e-4b43-8579-317cc5c949e7",
   "metadata": {},
   "outputs": [
    {
     "data": {
      "text/plain": [
       "<sklearn.metrics._plot.confusion_matrix.ConfusionMatrixDisplay at 0x226205f5700>"
      ]
     },
     "execution_count": 37,
     "metadata": {},
     "output_type": "execute_result"
    },
    {
     "data": {
      "image/png": "[encoded data removed]",
      "text/plain": [
       "<Figure size 800x800 with 2 Axes>"
      ]
     },
     "metadata": {},
     "output_type": "display_data"
    }
   ],
   "source": [
    "cm_display_svm = ConfusionMatrixDisplay(svm_cm, display_labels=svm.classes_)\n",
    "fig, ax = plt.subplots(figsize=(8,8)) # adjust the size\n",
    "cm_display_svm.plot(ax=ax,cmap='Blues')"
   ]
  },
  {
   "cell_type": "markdown",
   "id": "ffaa0c8c-8829-4154-bd3b-f59a8fbe3b5d",
   "metadata": {},
   "source": [
    "## 4.2 Logistic Regression"
   ]
  },
  {
   "cell_type": "code",
   "execution_count": 39,
   "id": "7a866710-2ba6-4a53-b752-d41c956c63e6",
   "metadata": {},
   "outputs": [
    {
     "name": "stdout",
     "output_type": "stream",
     "text": [
      "Accuracy: 94.150\n",
      "Precision: 94.527\n",
      "Recall: 91.770\n",
      "F1-score: 92.956\n",
      "              precision    recall  f1-score   support\n",
      "\n",
      "       Anger       0.96      0.82      0.89       797\n",
      "       Happy       0.94      0.98      0.96      2034\n",
      "         Sad       0.94      0.95      0.94      1750\n",
      "\n",
      "    accuracy                           0.94      4581\n",
      "   macro avg       0.95      0.92      0.93      4581\n",
      "weighted avg       0.94      0.94      0.94      4581\n",
      "\n"
     ]
    }
   ],
   "source": [
    "logisticRegr = LogisticRegression()\n",
    "\n",
    "logisticRegr.fit(x_train, y_train)\n",
    "\n",
    "y_pred = logisticRegr.predict(x_test)\n",
    "\n",
    "lr_acc = accuracy_score(y_pred, y_test)\n",
    "lr_prec = precision_score(y_test, y_pred, average='macro')\n",
    "lr_recal = recall_score(y_test, y_pred, average='macro')\n",
    "lr_cm = confusion_matrix(y_test,y_pred)\n",
    "lr_f1 = f1_score(y_test, y_pred, average='macro')\n",
    "\n",
    "print('Accuracy:', '{0:.3f}'.format(lr_acc*100))\n",
    "print('Precision:', '{0:.3f}'.format(lr_prec*100))\n",
    "print('Recall:', '{0:.3f}'.format(lr_recal*100))\n",
    "print('F1-score:', '{0:.3f}'.format(lr_f1*100))\n",
    "print(classification_report(y_test,y_pred))"
   ]
  },
  {
   "cell_type": "markdown",
   "id": "e2f45cc5-1bac-4c5b-a38f-2a917c5bc31a",
   "metadata": {},
   "source": [
    "### 4.2.1 Confusion Matrix"
   ]
  },
  {
   "cell_type": "code",
   "execution_count": 41,
   "id": "d6321f64-9d88-4445-a4f1-22966558ac4c",
   "metadata": {},
   "outputs": [
    {
     "data": {
      "text/plain": [
       "<sklearn.metrics._plot.confusion_matrix.ConfusionMatrixDisplay at 0x22620c9d160>"
      ]
     },
     "execution_count": 41,
     "metadata": {},
     "output_type": "execute_result"
    },
    {
     "data": {
      "image/png": "[encoded data removed]",
      "text/plain": [
       "<Figure size 800x800 with 2 Axes>"
      ]
     },
     "metadata": {},
     "output_type": "display_data"
    }
   ],
   "source": [
    "cm_display_lr = ConfusionMatrixDisplay(lr_cm, display_labels=logisticRegr.classes_)\n",
    "fig, ax = plt.subplots(figsize=(8,8)) # adjust the size\n",
    "cm_display_lr.plot(ax=ax,cmap='PuRd')"
   ]
  },
  {
   "cell_type": "markdown",
   "id": "c1e58c1d-97ec-4e8d-bfa3-65d0524b05b2",
   "metadata": {},
   "source": [
    "## 4.3 Random Forest Classifier"
   ]
  },
  {
   "cell_type": "code",
   "execution_count": 43,
   "id": "a1d67d81-13b8-4e60-b8eb-5d2d9b0d4178",
   "metadata": {},
   "outputs": [
    {
     "name": "stdout",
     "output_type": "stream",
     "text": [
      "Accuracy: 78.935\n",
      "Precision: 78.719\n",
      "Recall: 77.498\n",
      "F1-score: 77.989\n",
      "              precision    recall  f1-score   support\n",
      "\n",
      "       Anger       0.78      0.71      0.74       797\n",
      "       Happy       0.83      0.79      0.81      2034\n",
      "         Sad       0.75      0.82      0.78      1750\n",
      "\n",
      "    accuracy                           0.79      4581\n",
      "   macro avg       0.79      0.77      0.78      4581\n",
      "weighted avg       0.79      0.79      0.79      4581\n",
      "\n"
     ]
    }
   ],
   "source": [
    "rfc = RandomForestClassifier(n_estimators=1, random_state=0)\n",
    "\n",
    "rfc.fit(x_train, y_train)\n",
    "\n",
    "y_pred = rfc.predict(x_test)\n",
    "\n",
    "rfc_acc = accuracy_score(y_pred, y_test)\n",
    "rfc_prec = precision_score(y_test, y_pred, average='macro')\n",
    "rfc_recal = recall_score(y_test, y_pred, average='macro')\n",
    "rfc_cm = confusion_matrix(y_test,y_pred)\n",
    "rfc_f1 = f1_score(y_test, y_pred, average='macro')\n",
    "\n",
    "print('Accuracy:', '{0:.3f}'.format(rfc_acc*100))\n",
    "print('Precision:', '{0:.3f}'.format(rfc_prec*100))\n",
    "print('Recall:', '{0:.3f}'.format(rfc_recal*100))\n",
    "print('F1-score:', '{0:.3f}'.format(rfc_f1*100))\n",
    "print(classification_report(y_test,y_pred))"
   ]
  },
  {
   "cell_type": "markdown",
   "id": "f0a95ddd-5232-4e2a-bf24-62b751f0c09b",
   "metadata": {},
   "source": [
    "### 4.3.1 Confusion Matrix"
   ]
  },
  {
   "cell_type": "code",
   "execution_count": 45,
   "id": "fc26bdfb-036a-4032-afa3-e5beb7c770eb",
   "metadata": {},
   "outputs": [
    {
     "data": {
      "text/plain": [
       "<sklearn.metrics._plot.confusion_matrix.ConfusionMatrixDisplay at 0x22621d46000>"
      ]
     },
     "execution_count": 45,
     "metadata": {},
     "output_type": "execute_result"
    },
    {
     "data": {
      "image/png": "[encoded data removed]",
      "text/plain": [
       "<Figure size 800x800 with 2 Axes>"
      ]
     },
     "metadata": {},
     "output_type": "display_data"
    }
   ],
   "source": [
    "cm_display_rfc = ConfusionMatrixDisplay(rfc_cm, display_labels=rfc.classes_)\n",
    "fig, ax = plt.subplots(figsize=(8,8)) # adjust the size\n",
    "cm_display_rfc.plot(ax=ax,cmap='hot_r')"
   ]
  },
  {
   "cell_type": "markdown",
   "id": "5f299820-b9f2-4e32-8df5-fdd955e9ef6b",
   "metadata": {},
   "source": [
    "## 4.4 Multinomial Naive Bayes Classifier"
   ]
  },
  {
   "cell_type": "code",
   "execution_count": 47,
   "id": "943a1801-df04-413e-826d-3eac29c1f39e",
   "metadata": {},
   "outputs": [
    {
     "name": "stdout",
     "output_type": "stream",
     "text": [
      "Accuracy: 85.287\n",
      "Precision: 89.450\n",
      "Recall: 75.493\n",
      "F1-score: 77.078\n",
      "              precision    recall  f1-score   support\n",
      "\n",
      "       Anger       1.00      0.35      0.52       797\n",
      "       Happy       0.84      0.98      0.91      2034\n",
      "         Sad       0.84      0.93      0.89      1750\n",
      "\n",
      "    accuracy                           0.85      4581\n",
      "   macro avg       0.89      0.75      0.77      4581\n",
      "weighted avg       0.87      0.85      0.83      4581\n",
      "\n"
     ]
    }
   ],
   "source": [
    "mnb = MultinomialNB()\n",
    "mnb.fit(x_train, y_train)\n",
    "\n",
    "y_pred = mnb.predict(x_test)\n",
    "\n",
    "mnb_acc = accuracy_score(y_pred, y_test)\n",
    "mnb_prec = precision_score(y_test, y_pred, average='macro')\n",
    "mnb_recal = recall_score(y_test, y_pred, average='macro')\n",
    "mnb_cm = confusion_matrix(y_test,y_pred)\n",
    "mnb_f1 = f1_score(y_test, y_pred, average='macro')\n",
    "\n",
    "print('Accuracy:', '{0:.3f}'.format(mnb_acc*100))\n",
    "print('Precision:', '{0:.3f}'.format(mnb_prec*100))\n",
    "print('Recall:', '{0:.3f}'.format(mnb_recal*100))\n",
    "print('F1-score:', '{0:.3f}'.format(mnb_f1*100))\n",
    "print(classification_report(y_test,y_pred))"
   ]
  },
  {
   "cell_type": "markdown",
   "id": "eeadd980-725c-46b0-ac79-e4e681f16799",
   "metadata": {},
   "source": [
    "### 4.4.1 Confusion Matrix"
   ]
  },
  {
   "cell_type": "code",
   "execution_count": 49,
   "id": "5339bdf4-2cf4-47ae-a37b-bb2aaec3e6fd",
   "metadata": {},
   "outputs": [
    {
     "data": {
      "text/plain": [
       "<sklearn.metrics._plot.confusion_matrix.ConfusionMatrixDisplay at 0x22621e51c70>"
      ]
     },
     "execution_count": 49,
     "metadata": {},
     "output_type": "execute_result"
    },
    {
     "data": {
      "image/png": "[encoded data removed]",
      "text/plain": [
       "<Figure size 800x800 with 2 Axes>"
      ]
     },
     "metadata": {},
     "output_type": "display_data"
    }
   ],
   "source": [
    "cm_display_mnb = ConfusionMatrixDisplay(mnb_cm, display_labels=mnb.classes_)\n",
    "fig, ax = plt.subplots(figsize=(8,8)) # adjust the size\n",
    "cm_display_mnb.plot(ax=ax,cmap='Reds')"
   ]
  },
  {
   "cell_type": "markdown",
   "id": "52af2ddd-3a8b-44b2-8a62-c8b9f370aa72",
   "metadata": {},
   "source": [
    "## 4.5 Decision Tree Classifier"
   ]
  },
  {
   "cell_type": "code",
   "execution_count": 51,
   "id": "e6e8364e-db47-4b88-95dc-6f3d98487530",
   "metadata": {},
   "outputs": [
    {
     "name": "stdout",
     "output_type": "stream",
     "text": [
      "Accuracy: 93.560\n",
      "Precision: 92.713\n",
      "Recall: 92.775\n",
      "F1-score: 92.722\n",
      "              precision    recall  f1-score   support\n",
      "\n",
      "       Anger       0.90      0.89      0.89       797\n",
      "       Happy       0.97      0.94      0.96      2034\n",
      "         Sad       0.91      0.95      0.93      1750\n",
      "\n",
      "    accuracy                           0.94      4581\n",
      "   macro avg       0.93      0.93      0.93      4581\n",
      "weighted avg       0.94      0.94      0.94      4581\n",
      "\n"
     ]
    }
   ],
   "source": [
    "dt = tree.DecisionTreeClassifier()\n",
    "dt.fit(x_train, y_train)\n",
    "y_pred = dt.predict(x_test)\n",
    "\n",
    "\n",
    "dt_acc = accuracy_score(y_pred, y_test)\n",
    "dt_prec = precision_score(y_test, y_pred, average='macro')\n",
    "dt_recal = recall_score(y_test, y_pred, average='macro')\n",
    "dt_cm = confusion_matrix(y_test,y_pred)\n",
    "dt_f1 = f1_score(y_test, y_pred, average='macro')\n",
    "\n",
    "print('Accuracy:', '{0:.3f}'.format(dt_acc*100))\n",
    "print('Precision:', '{0:.3f}'.format(dt_prec*100))\n",
    "print('Recall:', '{0:.3f}'.format(dt_recal*100))\n",
    "print('F1-score:', '{0:.3f}'.format(dt_f1*100))\n",
    "print(classification_report(y_test,y_pred))"
   ]
  },
  {
   "cell_type": "markdown",
   "id": "d4397e83-53fa-40cc-926f-98e68bcbe062",
   "metadata": {},
   "source": [
    "### 4.5.1 Confusion Matrix"
   ]
  },
  {
   "cell_type": "code",
   "execution_count": 53,
   "id": "963ba287-c8a4-4349-a4e2-df478bab98f3",
   "metadata": {},
   "outputs": [
    {
     "data": {
      "text/plain": [
       "<sklearn.metrics._plot.confusion_matrix.ConfusionMatrixDisplay at 0x2262218b560>"
      ]
     },
     "execution_count": 53,
     "metadata": {},
     "output_type": "execute_result"
    },
    {
     "data": {
      "image/png": "[encoded data removed]",
      "text/plain": [
       "<Figure size 800x800 with 2 Axes>"
      ]
     },
     "metadata": {},
     "output_type": "display_data"
    }
   ],
   "source": [
    "cm_display_dt = ConfusionMatrixDisplay(dt_cm, display_labels=dt.classes_)\n",
    "fig, ax = plt.subplots(figsize=(8,8)) # adjust the size\n",
    "cm_display_dt.plot(ax=ax,cmap='Greens')\n"
   ]
  },
  {
   "cell_type": "markdown",
   "id": "4ab9767d-584e-434a-90ee-e7bb172cafe0",
   "metadata": {},
   "source": [
    "## 5. Summary Visualization"
   ]
  },
  {
   "cell_type": "code",
   "execution_count": 55,
   "id": "53978d28-1e8b-4a68-9140-37b45520e192",
   "metadata": {},
   "outputs": [],
   "source": [
    "def get_prec_recall_per_emotion(cm):\n",
    "    per_emotion_precision = []\n",
    "    for i in range(len(cm)):\n",
    "        count_per_emotion,accurate = 0,0\n",
    "        for j in range(len(cm)):\n",
    "            if i == j:\n",
    "                accurate = cm[j][i]\n",
    "            count_per_emotion += cm[j][i]\n",
    "        per_emotion_precision.append(round((accurate/count_per_emotion)*100,3))\n",
    "        \n",
    "    per_emotion_recall = []\n",
    "    for i in range(len(cm)):\n",
    "        count_per_emotion,accurate = 0,0\n",
    "        for j in range(len(cm)):\n",
    "            if i == j:\n",
    "                accurate = cm[i][j]\n",
    "            count_per_emotion += cm[i][j]\n",
    "        per_emotion_recall.append(round((accurate/count_per_emotion)*100,3))\n",
    "        \n",
    "    return per_emotion_precision, per_emotion_recall"
   ]
  },
  {
   "cell_type": "markdown",
   "id": "db53edb8-4401-4e3c-a4e2-42b32163e1da",
   "metadata": {},
   "source": [
    "### 5.1 Precision of all models"
   ]
  },
  {
   "cell_type": "code",
   "execution_count": 57,
   "id": "0353e630-11e1-47bb-96bb-ca219049e668",
   "metadata": {},
   "outputs": [
    {
     "data": {
      "text/html": [
       "<div>\n",
       "<style scoped>\n",
       "    .dataframe tbody tr th:only-of-type {\n",
       "        vertical-align: middle;\n",
       "    }\n",
       "\n",
       "    .dataframe tbody tr th {\n",
       "        vertical-align: top;\n",
       "    }\n",
       "\n",
       "    .dataframe thead th {\n",
       "        text-align: right;\n",
       "    }\n",
       "</style>\n",
       "<table border=\"1\" class=\"dataframe\">\n",
       "  <thead>\n",
       "    <tr style=\"text-align: right;\">\n",
       "      <th></th>\n",
       "      <th>Support vector Machine</th>\n",
       "      <th>Logistic Regression</th>\n",
       "      <th>Random Forest</th>\n",
       "      <th>Naive Bayes</th>\n",
       "      <th>Decision Tree</th>\n",
       "    </tr>\n",
       "  </thead>\n",
       "  <tbody>\n",
       "    <tr>\n",
       "      <th>Anger</th>\n",
       "      <td>94.638</td>\n",
       "      <td>95.900</td>\n",
       "      <td>77.992</td>\n",
       "      <td>99.644</td>\n",
       "      <td>89.560</td>\n",
       "    </tr>\n",
       "    <tr>\n",
       "      <th>Happy</th>\n",
       "      <td>96.500</td>\n",
       "      <td>93.877</td>\n",
       "      <td>83.153</td>\n",
       "      <td>84.313</td>\n",
       "      <td>97.201</td>\n",
       "    </tr>\n",
       "    <tr>\n",
       "      <th>Sad</th>\n",
       "      <td>94.601</td>\n",
       "      <td>93.803</td>\n",
       "      <td>75.013</td>\n",
       "      <td>84.393</td>\n",
       "      <td>91.378</td>\n",
       "    </tr>\n",
       "  </tbody>\n",
       "</table>\n",
       "</div>"
      ],
      "text/plain": [
       "       Support vector Machine  Logistic Regression  Random Forest  \\\n",
       "Anger                  94.638               95.900         77.992   \n",
       "Happy                  96.500               93.877         83.153   \n",
       "Sad                    94.601               93.803         75.013   \n",
       "\n",
       "       Naive Bayes  Decision Tree  \n",
       "Anger       99.644         89.560  \n",
       "Happy       84.313         97.201  \n",
       "Sad         84.393         91.378  "
      ]
     },
     "execution_count": 57,
     "metadata": {},
     "output_type": "execute_result"
    }
   ],
   "source": [
    "svm_per_prec,svm_per_recall = get_prec_recall_per_emotion(svm_cm)\n",
    "lr_per_prec,lr_per_recall = get_prec_recall_per_emotion(lr_cm)\n",
    "rfc_per_prec,rfc_per_recall = get_prec_recall_per_emotion(rfc_cm)\n",
    "mnb_per_prec,mnb_per_recall = get_prec_recall_per_emotion(mnb_cm)\n",
    "dt_per_prec,dt_per_recall = get_prec_recall_per_emotion(dt_cm)\n",
    "\n",
    "per_precision_list = pd.DataFrame({'Support vector Machine' : svm_per_prec,\n",
    "                                'Logistic Regression' : lr_per_prec,\n",
    "                                'Random Forest' : rfc_per_prec,\n",
    "                                'Naive Bayes' : mnb_per_prec,\n",
    "                                'Decision Tree' : dt_per_prec}, \n",
    "                                index=svm.classes_)\n",
    "per_precision_list"
   ]
  },
  {
   "cell_type": "markdown",
   "id": "afef56d8-e4cf-4810-bea0-e3ef4b418dfa",
   "metadata": {},
   "source": [
    "### 5.2 Recall of all models"
   ]
  },
  {
   "cell_type": "code",
   "execution_count": 59,
   "id": "22e3d2f4-b307-4359-ab5d-56c1a4e7066b",
   "metadata": {},
   "outputs": [
    {
     "data": {
      "text/html": [
       "<div>\n",
       "<style scoped>\n",
       "    .dataframe tbody tr th:only-of-type {\n",
       "        vertical-align: middle;\n",
       "    }\n",
       "\n",
       "    .dataframe tbody tr th {\n",
       "        vertical-align: top;\n",
       "    }\n",
       "\n",
       "    .dataframe thead th {\n",
       "        text-align: right;\n",
       "    }\n",
       "</style>\n",
       "<table border=\"1\" class=\"dataframe\">\n",
       "  <thead>\n",
       "    <tr style=\"text-align: right;\">\n",
       "      <th></th>\n",
       "      <th>Support vector Machine</th>\n",
       "      <th>Logistic Regression</th>\n",
       "      <th>Random Forest</th>\n",
       "      <th>Naive Bayes</th>\n",
       "      <th>Decision Tree</th>\n",
       "    </tr>\n",
       "  </thead>\n",
       "  <tbody>\n",
       "    <tr>\n",
       "      <th>Anger</th>\n",
       "      <td>88.582</td>\n",
       "      <td>82.183</td>\n",
       "      <td>71.142</td>\n",
       "      <td>35.132</td>\n",
       "      <td>89.335</td>\n",
       "    </tr>\n",
       "    <tr>\n",
       "      <th>Happy</th>\n",
       "      <td>97.591</td>\n",
       "      <td>97.984</td>\n",
       "      <td>79.351</td>\n",
       "      <td>98.033</td>\n",
       "      <td>93.904</td>\n",
       "    </tr>\n",
       "    <tr>\n",
       "      <th>Sad</th>\n",
       "      <td>96.114</td>\n",
       "      <td>95.143</td>\n",
       "      <td>82.000</td>\n",
       "      <td>93.314</td>\n",
       "      <td>95.086</td>\n",
       "    </tr>\n",
       "  </tbody>\n",
       "</table>\n",
       "</div>"
      ],
      "text/plain": [
       "       Support vector Machine  Logistic Regression  Random Forest  \\\n",
       "Anger                  88.582               82.183         71.142   \n",
       "Happy                  97.591               97.984         79.351   \n",
       "Sad                    96.114               95.143         82.000   \n",
       "\n",
       "       Naive Bayes  Decision Tree  \n",
       "Anger       35.132         89.335  \n",
       "Happy       98.033         93.904  \n",
       "Sad         93.314         95.086  "
      ]
     },
     "execution_count": 59,
     "metadata": {},
     "output_type": "execute_result"
    }
   ],
   "source": [
    "per_recall_list = pd.DataFrame({'Support vector Machine' : svm_per_recall,\n",
    "                                'Logistic Regression' : lr_per_recall,\n",
    "                                'Random Forest' : rfc_per_recall,\n",
    "                                'Naive Bayes' : mnb_per_recall,\n",
    "                                'Decision Tree' : dt_per_recall}, \n",
    "                                index=svm.classes_)\n",
    "per_recall_list"
   ]
  },
  {
   "cell_type": "markdown",
   "id": "08dbaa6e-87f9-4d26-89da-3e657b540d9e",
   "metadata": {},
   "source": [
    "### 5.3 Accuracy Visualization for all models"
   ]
  },
  {
   "cell_type": "code",
   "execution_count": 61,
   "id": "a12810e0-709c-4739-a34c-76d15574102a",
   "metadata": {},
   "outputs": [
    {
     "data": {
      "image/png": "[encoded data removed]",
      "text/plain": [
       "<Figure size 1000x500 with 1 Axes>"
      ]
     },
     "metadata": {},
     "output_type": "display_data"
    }
   ],
   "source": [
    "algorithms = ['SVM','Logistic Regression','Random Forest','Naive Bayes','Decision Tree']\n",
    "algorithm_acc = [svm_acc*100, lr_acc*100, rfc_acc*100, mnb_acc*100, dt_acc*100]\n",
    "\n",
    "algorithms = ['Decision Tree','Naive Bayes','Random Forest','Logistic Regression','SVM']\n",
    "algorithm_acc = [dt_acc*100, mnb_acc*100, rfc_acc*100, lr_acc*100, svm_acc*100]\n",
    "# Figure Size\n",
    "fig = plt.figure(figsize =(10, 5))\n",
    "bar_list = plt.barh(algorithms, algorithm_acc,height = 0.6,color='black')\n",
    "bar_list[4].set_color('#7CAADE')\n",
    "bar_list[3].set_color('#E396B6')\n",
    "bar_list[2].set_color('#B096E3')\n",
    "bar_list[1].set_color('#FFB49C')\n",
    "bar_list[0].set_color('#B9E396')\n",
    "plt.xlabel('Accuracy',color='black')\n",
    "plt.ylabel('Models',color='black')\n",
    "plt.title('Accuracy for 5 Models')\n",
    "plt.xlim(0,110)\n",
    "\n",
    "for i, v in enumerate(algorithm_acc):\n",
    "    plt.text(v + 0.5, i - 0.1, str(round(v,2))+'%', color='black',fontsize=10)\n",
    "    \n",
    "plt.show()"
   ]
  },
  {
   "cell_type": "markdown",
   "id": "d62095ae-b1da-4739-a7c9-58dd6423862e",
   "metadata": {},
   "source": [
    "## 6. Prediction"
   ]
  },
  {
   "cell_type": "code",
   "execution_count": null,
   "id": "a50f7daa-5173-4879-b5e5-83795b42a0f3",
   "metadata": {},
   "outputs": [],
   "source": [
    "while True:\n",
    "    input_str = input(\"What's in your mind: \")\n",
    "    if input_str == 'nothing':\n",
    "        break\n",
    "        \n",
    "    processed_text = tfidf_transformer_xtest.fit_transform(countVectorizer1.transform([input_str]))\n",
    "    print('Emotion using SVM: ',end = '')\n",
    "    print(svm.predict(processed_text))\n",
    "    print('Emotion using Logistic Regression: ',end = '')\n",
    "    print(logisticRegr.predict(processed_text))\n",
    "    print('Emotion using Decision Tree: ',end = '')\n",
    "    print(dt.predict(processed_text))\n",
    "    print('Emotion using Naive Bayes: ',end = '')\n",
    "    print(mnb.predict(processed_text))\n",
    "    print('Emotion using Random Forest: ',end = '')\n",
    "    print(rfc.predict(processed_text))"
   ]
  },
  {
   "cell_type": "code",
   "execution_count": null,
   "id": "bca67fe6-3419-422c-9890-edaefa6eae63",
   "metadata": {},
   "outputs": [],
   "source": []
  },
  {
   "cell_type": "code",
   "execution_count": null,
   "id": "a46a98a0-0003-40df-801f-ec9cbc1361ac",
   "metadata": {},
   "outputs": [],
   "source": []
  }
 ],
 "metadata": {
  "kernelspec": {
   "display_name": "Python 3 (ipykernel)",
   "language": "python",
   "name": "python3"
  },
  "language_info": {
   "codemirror_mode": {
    "name": "ipython",
    "version": 3
   },
   "file_extension": ".py",
   "mimetype": "text/x-python",
   "name": "python",
   "nbconvert_exporter": "python",
   "pygments_lexer": "ipython3",
   "version": "3.12.4"
  }
 },
 "nbformat": 4,
 "nbformat_minor": 5
}
